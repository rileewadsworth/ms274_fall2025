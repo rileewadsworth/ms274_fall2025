{
 "cells": [
  {
   "cell_type": "markdown",
   "id": "ae587e5d-ad7d-42ad-9ca7-d064e2ef5f2f",
   "metadata": {},
   "source": [
    "# Homework 5: An External Forcing Experiment\n",
    "\n",
    "Name: Rilee Wadsworth\n",
    "\n",
    "Date: 09/23/2025\n",
    "\n",
    "#### Overview\n",
    "In class, we set up the MITgcm `global_ocean_ebm` configuration with the `exf` package to run on MITgcm. In this assignment, we will assess the output of this model configuration. \n",
    "\n",
    "To begin, import the Python modules for manging and plotting data, and making movies. Then, define a path to your homework 5 directory. Finally, the `diags` folder on Spartan to your local machine."
   ]
  },
  {
   "cell_type": "code",
   "execution_count": 1,
   "id": "e3f065c8-4852-442d-818e-587dc02f845b",
   "metadata": {},
   "outputs": [],
   "source": [
    "# import pertinent modules\n",
    "import os\n",
    "import numpy as np\n",
    "import matplotlib.pyplot as plt\n",
    "import cmocean.cm as cm\n",
    "import moviepy.video.io.ImageSequenceClip\n",
    "\n",
    "# define a path to the diags directory\n",
    "diags_dir = '/Users/rilee/MS 274/Homework/Homework 5/diags'"
   ]
  },
  {
   "cell_type": "markdown",
   "id": "45a0908f-c425-472a-9e3b-7ae0985fb41b",
   "metadata": {},
   "source": [
    "### Part 1: Choose Variables to Examine \n",
    "In this assignment, you'll investigate the relationship between a state variable (temperature, salinity, or velocity) and an associated forcing variable (heat flux, freshwater flux, or wind stress). \n",
    "\n",
    "In the markdown cell below, indicate which pair of variables you're going to investigate."
   ]
  },
  {
   "cell_type": "markdown",
   "id": "34234ea7",
   "metadata": {},
   "source": [
    "I will investigate temperature and heat flux."
   ]
  },
  {
   "attachments": {},
   "cell_type": "markdown",
   "id": "a90fbe58-d6af-47ca-8bb8-e13c18fa51ef",
   "metadata": {},
   "source": [
    "### Part 2: Make a Movie\n",
    "Next, make a movie for your variables of interest. The movie should show your state variable in one panel and your forcing variable in another panel. If you are using velocity and wind stress, you can either plot the magnitude of these variables or plot the vector components individually."
   ]
  },
  {
   "cell_type": "code",
   "execution_count": 2,
   "id": "f2c7f787-cc51-41f4-b1dd-77546e10df6c",
   "metadata": {},
   "outputs": [],
   "source": [
    "# define a plot_frame function which takes in two arguments:\n",
    "def plot_frame(temp_path, flux_path, image_path): \n",
    "\n",
    "    # make a figure object\n",
    "    fig = plt.figure(figsize=(10,6))\n",
    "\n",
    "    #note: I had to splice the data because I couldn't figure out how to get it to output in different files\n",
    "    temp_grid = np.fromfile(temp_path, '>f4')[:40*90].reshape((40,90))\n",
    "    flux_grid = np.fromfile(flux_path, '>f4')[2*40*90 : 3*40*90].reshape((40,90))\n",
    "\n",
    "    # plot the temp\n",
    "    plt.subplot(1,2,1)\n",
    "    plt.pcolormesh(temp_grid, cmap=\"seismic\")\n",
    "    plt.colorbar(label=\"C\")\n",
    "    plt.title('Surface Temperature')\n",
    "    plt.xlabel('Model Columns')\n",
    "    plt.ylabel('Model Rows')\n",
    "\n",
    "    #plot flux\n",
    "    plt.subplot(1,2,2)\n",
    "    plt.pcolormesh(flux_grid, cmap='bwr')\n",
    "    plt.colorbar(label='W/m2')\n",
    "    plt.title('Surface Heat Flux')\n",
    "    plt.xlabel('Model Columns')\n",
    "    \n",
    "    # save a close the figure\n",
    "    plt.savefig(image_path)\n",
    "    plt.close(fig)\n",
    "    "
   ]
  },
  {
   "cell_type": "code",
   "execution_count": 3,
   "id": "f4082c54-955f-439e-90db-483bcbb03ec8",
   "metadata": {},
   "outputs": [],
   "source": [
    "# make a list that will hold the paths\n",
    "file_list = []\n",
    "\n",
    "# loop through each day of the year\n",
    "for i in range(10,7271,20):\n",
    "\n",
    "    # identify the data file path\n",
    "    temp_path = os.path.join(diags_dir, 'diagSURF', 'diagSURF.'+'{:010d}'.format(i)+'.data')\n",
    "    flux_path = os.path.join(diags_dir, 'diagsEXF', 'diagsEXF.'+'{:010d}'.format(i)+'.data')\n",
    "\n",
    "    # identify the image file path\n",
    "    image_path = os.path.join(diags_dir, 'plots', 'tempflux', 'TEMPFLUX.'+'{:010d}'.format(i)+'.png')\n",
    "\n",
    "    # call the plotting function\n",
    "    plot_frame(temp_path, flux_path, image_path)\n",
    "\n",
    "    # add the image path to the file path list (for the next step)\n",
    "    file_list.append(image_path)"
   ]
  },
  {
   "cell_type": "code",
   "execution_count": 4,
   "id": "55b77597-be8e-49c2-a954-7d38d3d99bf9",
   "metadata": {},
   "outputs": [
    {
     "name": "stdout",
     "output_type": "stream",
     "text": [
      "Moviepy - Building video /Users/rilee/MS 274/Homework/Homework 5/diags\\temp_flux_movie.mp4.\n",
      "Moviepy - Writing video /Users/rilee/MS 274/Homework/Homework 5/diags\\temp_flux_movie.mp4\n",
      "\n"
     ]
    },
    {
     "name": "stderr",
     "output_type": "stream",
     "text": [
      "                                                                                                                       "
     ]
    },
    {
     "name": "stdout",
     "output_type": "stream",
     "text": [
      "Moviepy - Done !\n",
      "Moviepy - video ready /Users/rilee/MS 274/Homework/Homework 5/diags\\temp_flux_movie.mp4\n"
     ]
    }
   ],
   "source": [
    "# to make movie\n",
    "\n",
    "# set the frames per second\n",
    "fps=10\n",
    "\n",
    "# use the ImageSequenceClip module to set up the clip\n",
    "clip = moviepy.video.io.ImageSequenceClip.ImageSequenceClip(file_list, fps=fps)\n",
    "\n",
    "# write the video to a file\n",
    "output_file = os.path.join(diags_dir, 'temp_flux_movie.mp4') # fill this in\n",
    "clip.write_videofile(output_file)"
   ]
  },
  {
   "cell_type": "markdown",
   "id": "dd9fec3d-b74b-4b64-97da-996c795a994d",
   "metadata": {},
   "source": [
    "Comment on any features you observe in your movie. Place particular focus on the potential connection(s) between your state variable and the forcing."
   ]
  },
  {
   "cell_type": "markdown",
   "id": "50e7fbe2-b90b-48bb-8d81-7b85daf090de",
   "metadata": {},
   "source": [
    "For the most part, when heat flux changes from postitive to negative in a region, the surface temperature decreases. This indicates that the ocean is losing heat, which is refleected in our temperature plots. However it is important to note that there is a bit of lag between changes in flux vs. changes in temperature."
   ]
  },
  {
   "cell_type": "markdown",
   "id": "2dcc0f5b",
   "metadata": {},
   "source": [
    "### Part 3: Plot Time Series at a Location\n",
    "Based on your movie, choose an interesting place in your model domain and create a timeseries of your variables at this location. There should be two plots - either as two horizontal subplots (one for each variable), or one plot with two separate y-axes for the different variables.\n",
    "\n",
    "Again you are using velocity and wind stress, you can either plot the magnitude of these variables or plot the vector components individually."
   ]
  },
  {
   "cell_type": "code",
   "execution_count": 5,
   "id": "a736e5e0-0203-4110-93c3-d476abb547a2",
   "metadata": {},
   "outputs": [
    {
     "name": "stdout",
     "output_type": "stream",
     "text": [
      "26 58\n"
     ]
    }
   ],
   "source": [
    "#open data file in WSL or powersheell to obtain the gridding parameters (PARM4)\n",
    "delX = 4\n",
    "delY = 4\n",
    "xgOrigin = 0\n",
    "ygOrigin = -80\n",
    "n_rows = 40\n",
    "n_cols = 90\n",
    "\n",
    "# recreate the grids that will be used in the model\n",
    "xc = np.arange(xgOrigin+delX/2, xgOrigin+n_cols*delX, delX)\n",
    "yc = np.arange(ygOrigin+delY/2, ygOrigin+n_rows*delY, delY)\n",
    "XC, YC = np.meshgrid(xc, yc)\n",
    "# define the lon/lat point\n",
    "lon = 235\n",
    "lat = 25\n",
    "\n",
    "# find its location in the grid\n",
    "dist = ((XC - lon)**2 + (YC - lat)**2)**0.5\n",
    "row, col = np.where(dist==np.min(dist))\n",
    "row, col = row[0], col[0]  \n",
    "print(row,col)"
   ]
  },
  {
   "cell_type": "code",
   "execution_count": 6,
   "id": "3d8505fb-a39c-492e-aa81-0250ef71823d",
   "metadata": {},
   "outputs": [],
   "source": [
    "# make an empty array for temperature\n",
    "temp_timeseries = np.zeros((364,))\n",
    "\n",
    "# loop through all the files\n",
    "for j, step in enumerate(range(10, 7271, 20)):\n",
    "\n",
    "    # identify the file\n",
    "    temp_path = os.path.join(diags_dir,'diagSurf', f'diagSurf.{step:010d}.data')\n",
    "\n",
    "    # read in data (two fields: THETA, SALT)\n",
    "    temp_grid = np.fromfile(temp_path, '>f4').reshape(40,90,-1)\n",
    "\n",
    "    # grab THETA at our location\n",
    "    temp_timeseries[j] = temp_grid[row, col, 0]"
   ]
  },
  {
   "cell_type": "code",
   "execution_count": 7,
   "id": "abc9f1bd-d7a0-4c0d-949a-f5df4231edee",
   "metadata": {},
   "outputs": [],
   "source": [
    "# make your timeseries\n",
    "# make an empty array\n",
    "flux_timeseries = np.zeros((364,))\n",
    "\n",
    "# loop through all the diagsEXF files\n",
    "for i, step in enumerate(range(10, 7271, 20)):\n",
    "    # identify the data file path\n",
    "    flux_path = os.path.join(diags_dir, 'diagsEXF', f'diagsEXF.{step:010d}.data')\n",
    "\n",
    "    # read in the data (EXF has multiple fields)\n",
    "    flux_grid = np.fromfile(flux_path, '>f4').reshape(40, 90, 4)\n",
    "\n",
    "    # sample flux at our location\n",
    "    flux_timeseries[j] = flux_grid[row, col, 2]"
   ]
  },
  {
   "cell_type": "code",
   "execution_count": 8,
   "id": "faf0e4a7-59e2-4dfe-9c92-a73f858ce2f2",
   "metadata": {},
   "outputs": [
    {
     "data": {
      "image/png": "[encoded data removed]",
      "text/plain": [
       "<Figure size 1400x500 with 2 Axes>"
      ]
     },
     "metadata": {},
     "output_type": "display_data"
    }
   ],
   "source": [
    "plt.figure(figsize=(14,5))\n",
    "# plot temperature timeseries\n",
    "plt.subplot(1,2,1)\n",
    "plt.plot(temp_timeseries, \"r-\")\n",
    "plt.title('Surface Temperature')\n",
    "plt.xlabel('Time Step')\n",
    "plt.ylabel('THETA (C)')\n",
    "\n",
    "# plot heat flux timeseries\n",
    "plt.subplot(1,2,2)\n",
    "plt.plot(flux_timeseries, \"b-\")\n",
    "plt.title('Surface Heat Flux')\n",
    "plt.xlabel('Time Step')\n",
    "plt.ylabel('Qnet (W/m2)')\n",
    "\n",
    "# show the plot\n",
    "plt.show()"
   ]
  },
  {
   "cell_type": "markdown",
   "id": "c645a3d3-161b-4a26-a899-62345386dad9",
   "metadata": {},
   "source": [
    "Comment on any features you observe in your timeseries. Place particular focus on the potential connection(s) between your state variable and the forcing. Is there anything you observe in your timeseries that you didn't catch by eye in your movie?"
   ]
  },
  {
   "cell_type": "markdown",
   "id": "ffdfdf66",
   "metadata": {},
   "source": [
    "The THETA timeseries shows that the temperature has some variation, but rather same (a max difference of 0.1), while heat flux shows 0 for almost the entire simulation. Either this chosen cell is near land, or the heatflux is so small that there is not much impact on the surface temperature."
   ]
  }
 ],
 "metadata": {
  "kernelspec": {
   "display_name": "Python 3 (ipykernel)",
   "language": "python",
   "name": "python3"
  },
  "language_info": {
   "codemirror_mode": {
    "name": "ipython",
    "version": 3
   },
   "file_extension": ".py",
   "mimetype": "text/x-python",
   "name": "python",
   "nbconvert_exporter": "python",
   "pygments_lexer": "ipython3",
   "version": "3.12.11"
  }
 },
 "nbformat": 4,
 "nbformat_minor": 5
}
